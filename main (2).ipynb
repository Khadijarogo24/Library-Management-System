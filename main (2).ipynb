{
 "cells": [
  {
   "cell_type": "code",
   "execution_count": 1,
   "id": "c7d1cb2a-acbb-4d73-9595-03a6a1d1fb57",
   "metadata": {},
   "outputs": [],
   "source": []
  },
  {
   "cell_type": "code",
   "execution_count": 4,
   "id": "e54fa5d4-2ce6-4be6-94d7-af80f3e3faa9",
   "metadata": {},
   "outputs": [],
   "source": [
    "from library import Library\n"
   ]
  },
  {
   "cell_type": "code",
   "execution_count": null,
   "id": "e005f514-44ac-42ef-b923-ad7cea2e9133",
   "metadata": {},
   "outputs": [
    {
     "name": "stdout",
     "output_type": "stream",
     "text": [
      "\n",
      "LIBRARY MENU\n",
      "1. Add Book\n",
      "2. Issue Book\n",
      "3. Return Book\n",
      "4. View All Books\n",
      "5. Exit\n"
     ]
    },
    {
     "name": "stdin",
     "output_type": "stream",
     "text": [
      "Enter choice:  4\n"
     ]
    },
    {
     "name": "stdout",
     "output_type": "stream",
     "text": [
      "\n",
      "Books in Library:\n",
      "Title: The Purple Hibiscus, Author: Chimamanda Ngozi Adichie, Status: Available\n",
      "Title: Purple Hibiscus, Author: Chimamanda Ngozi Adichie, Status: Available\n",
      "Title: The lion and the jewel, Author: Wole soyinka, Status: Available\n",
      "Title: the lion and the jewel, Author: wole soyinka, Status: Available\n",
      "\n",
      "LIBRARY MENU\n",
      "1. Add Book\n",
      "2. Issue Book\n",
      "3. Return Book\n",
      "4. View All Books\n",
      "5. Exit\n"
     ]
    },
    {
     "name": "stdin",
     "output_type": "stream",
     "text": [
      "Enter choice:  2\n",
      "Enter book title to issue:  the purple hibiscus\n"
     ]
    }
   ],
   "source": [
    "#### from library import Library\n",
    "\n",
    "lib = Library()\n",
    "lib.load_books()\n",
    "\n",
    "while True:\n",
    "    print(\"\\nLIBRARY MENU\")\n",
    "    print(\"1. Add Book\")\n",
    "    print(\"2. Issue Book\")\n",
    "    print(\"3. Return Book\")\n",
    "    print(\"4. View All Books\")\n",
    "    print(\"5. Exit\")\n",
    "\n",
    "    choice = input(\"Enter choice: \")\n",
    "\n",
    "    if choice == '1':\n",
    "        title = input(\"Enter book title: \")\n",
    "        author = input(\"Enter author name: \")\n",
    "        lib.add_book(title, author)\n",
    "\n",
    "    elif choice == '2':\n",
    "        title = input(\"Enter book title to issue: \")\n",
    "        member = input(\"Enter member name: \")\n",
    "        lib.issue_book(title, member)\n",
    "\n",
    "    elif choice == '3':\n",
    "        title = input(\"Enter book title to return: \")\n",
    "        member = input(\"Enter member name: \")\n",
    "        lib.return_book(title, member)\n",
    "\n",
    "    elif choice == '4':\n",
    "        lib.display_books()\n",
    "\n",
    "    elif choice == '5':\n",
    "        print(\"Exiting Library System.\")\n",
    "        break\n",
    "\n",
    "    else:\n",
    "        print(\"Invalid choice.\")\n"
   ]
  },
  {
   "cell_type": "code",
   "execution_count": null,
   "id": "b5241a2d-45b9-48c5-afb6-08c906a8495b",
   "metadata": {},
   "outputs": [],
   "source": []
  }
 ],
 "metadata": {
  "kernelspec": {
   "display_name": "Python 3 (ipykernel)",
   "language": "python",
   "name": "python3"
  },
  "language_info": {
   "codemirror_mode": {
    "name": "ipython",
    "version": 3
   },
   "file_extension": ".py",
   "mimetype": "text/x-python",
   "name": "python",
   "nbconvert_exporter": "python",
   "pygments_lexer": "ipython3",
   "version": "3.12.4"
  }
 },
 "nbformat": 4,
 "nbformat_minor": 5
}
